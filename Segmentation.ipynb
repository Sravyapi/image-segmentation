{
 "cells": [
  {
   "cell_type": "code",
   "execution_count": 7,
   "metadata": {},
   "outputs": [],
   "source": [
    "import os\n",
    "os.chdir('/Users/sp/Desktop/CVIP/PA2Data')\n",
    "import numpy as np\n",
    "import cv2\n",
    "from random import randint\n",
    "img = cv2.imread('Butterfly.jpg')"
   ]
  },
  {
   "cell_type": "code",
   "execution_count": 8,
   "metadata": {},
   "outputs": [],
   "source": [
    "\"\"\"Re-arrange the image into a feature vector matrix F containing both\n",
    "spatial and range information - 333*500*3 image becomes 166500*5,\n",
    "with two columns that represent pixel location\"\"\"\n",
    "F = np.zeros([img.shape[0] * img.shape[1], 5], dtype=np.int)      "
   ]
  },
  {
   "cell_type": "code",
   "execution_count": 9,
   "metadata": {},
   "outputs": [
    {
     "name": "stdout",
     "output_type": "stream",
     "text": [
      "Spatial range feature matrix created\n"
     ]
    }
   ],
   "source": [
    "#Fill feature vector matrix\n",
    "temp = np.zeros((1,3))\n",
    "row = 0\n",
    "for i in range(0,img.shape[0]):\n",
    "    for j in range(0,img.shape[1]):      \n",
    "        temp = img[i][j]       \n",
    "        for k in range(0,5):\n",
    "            if(k>=0) & (k <=2):\n",
    "                F[row][k]=temp[k]\n",
    "            else:\n",
    "                if(k==3):\n",
    "                    F[row][k]=i\n",
    "                else:\n",
    "                    F[row][k]=j\n",
    "        row+=1\n",
    "print (\"Spatial range feature matrix created\")\n"
   ]
  },
  {
   "cell_type": "code",
   "execution_count": 10,
   "metadata": {},
   "outputs": [],
   "source": [
    "def euclid_distance(x, xi):\n",
    "    return np.sqrt(np.sum((x - xi)**2))\n",
    "def find_non_zero_indices(feature_matrix):\n",
    "    indices=[]\n",
    "    for index,value in enumerate(feature_matrix):       \n",
    "        #.any() function can be thought of as logical or in python\n",
    "        if value.any(): \n",
    "            indices.append(index)\n",
    "    return indices"
   ]
  },
  {
   "cell_type": "code",
   "execution_count": 11,
   "metadata": {},
   "outputs": [],
   "source": [
    "\"\"\"Set a single threshold h for this spatial-range feature matrix and\n",
    "convergence criterion value iter\"\"\"\n",
    "h = 90    #threshold\n",
    "iter = 45 #convergence criterion value\n",
    "iteration = 0\n",
    "output = np.zeros([img.shape[0], img.shape[1], 3], np.uint8)\n"
   ]
  },
  {
   "cell_type": "code",
   "execution_count": 6,
   "metadata": {
    "scrolled": true
   },
   "outputs": [
    {
     "name": "stdout",
     "output_type": "stream",
     "text": [
      "Segmentation Done!\n"
     ]
    },
    {
     "data": {
      "text/plain": [
       "True"
      ]
     },
     "execution_count": 6,
     "metadata": {},
     "output_type": "execute_result"
    }
   ],
   "source": [
    "\"\"\"This process continues till you exhaust all the points\"\"\"\n",
    "while(F.shape[0]!=0): \n",
    "    iteration += 1\n",
    "    \"\"\"Pick a random row from F as initial seed point which is current mean\"\"\"\n",
    "    random_seed_index = np.random.randint(F.shape[0])\n",
    "    seed = F[random_seed_index] #choose some random row as current mean\n",
    "    output_matrix = np.zeros([F.shape[0], 5], dtype=np.int)\n",
    "    marked_output_matrix = np.zeros([F.shape[0]]) \n",
    "    #add current mean to output image in place of the seed used to calculate mean\n",
    "    output_matrix[random_seed_index] = seed  \n",
    "    \"\"\"compute the eucledian distance of all the points in F with current mean\"\"\"\n",
    "    for each_point_index in range(F.shape[0]):\n",
    "        each_point = F[each_point_index]\n",
    "        distance = euclid_distance(seed,each_point)\n",
    "        \"\"\"store the indexes of all the points that are within threshold h\"\"\"\n",
    "        if(distance < h): #if distance < threshold (h) then add it to output_matrix\n",
    "            output_matrix[each_point_index] = each_point\n",
    "            #assign 1 to all the pixels that fall within the threshold\n",
    "            marked_output_matrix[each_point_index] = 1 \n",
    "         \n",
    "    output_matrix_filtered = output_matrix[find_non_zero_indices(output_matrix)] \n",
    "    \"\"\"Average out each column of these select points and find the new mean\"\"\"\n",
    "    output_matrix_mean = np.mean(output_matrix_filtered, axis=0)\n",
    "    euc_distance = euclid_distance(seed,output_matrix_mean)\n",
    "    \"\"\"check if the mean shift value is below iter. If yes, mark all these\n",
    "        pixels in the original image with the mean intensity value. If no,\n",
    "            repeat this iteration all over again\"\"\"\n",
    "    if(euc_distance < iter):\n",
    "        for each_point in range(output_matrix_filtered.shape[0]):\n",
    "            for i in range(3):\n",
    "                x = output_matrix_filtered[each_point][3]\n",
    "                y = output_matrix_filtered[each_point][4]\n",
    "                output[x][y][i] = seed[i] \n",
    "        F = np.delete(F, np.nonzero(marked_output_matrix)[0], 0)\n",
    "print('Segmentation Done!')\n",
    "cv2.imwrite(\"segmented_image.jpg\", output)\n"
   ]
  },
  {
   "cell_type": "code",
   "execution_count": null,
   "metadata": {},
   "outputs": [],
   "source": []
  },
  {
   "cell_type": "code",
   "execution_count": null,
   "metadata": {},
   "outputs": [],
   "source": []
  }
 ],
 "metadata": {
  "kernelspec": {
   "display_name": "Python 3",
   "language": "python",
   "name": "python3"
  },
  "language_info": {
   "codemirror_mode": {
    "name": "ipython",
    "version": 3
   },
   "file_extension": ".py",
   "mimetype": "text/x-python",
   "name": "python",
   "nbconvert_exporter": "python",
   "pygments_lexer": "ipython3",
   "version": "3.6.5"
  }
 },
 "nbformat": 4,
 "nbformat_minor": 2
}
